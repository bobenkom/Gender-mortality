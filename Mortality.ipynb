{
 "nbformat": 4,
 "nbformat_minor": 0,
 "metadata": {
  "colab": {
   "name": "Mortality.ipynb",
   "provenance": [],
   "collapsed_sections": []
  },
  "kernelspec": {
   "name": "python3",
   "display_name": "Python 3"
  },
  "language_info": {
   "name": "python"
  }
 },
 "cells": [
  {
   "cell_type": "code",
   "execution_count": 6,
   "metadata": {
    "id": "T8Vl6yMoK4w-",
    "pycharm": {
     "name": "#%%\n"
    }
   },
   "outputs": [],
   "source": [
    "import requests\n",
    "import json\n",
    "import pandas as pd"
   ]
  },
  {
   "cell_type": "code",
   "source": [
    "mortality = []\n",
    "for a in range(2000,2021):\n",
    "    link = f\"https://frontdoor-l4uikgap6gz3m.azurefd.net/DEX_CMS/GHE_FULL?&$select=DIM_COUNTRY_CODE,DIM_GHECAUSE_CODE,DIM_GHECAUSE_TITLE,DIM_YEAR_CODE,DIM_SEX_CODE,DIM_AGEGROUP_CODE,VAL_DALY_COUNT_NUMERIC,VAL_DEATHS_COUNT_NUMERIC,ATTR_POPULATION_NUMERIC,VAL_DALY_RATE100K_NUMERIC,VAL_DEATHS_RATE100K_NUMERIC&$filter=FLAG_RANKABLE%20eq%201%20and%20DIM_COUNTRY_CODE%20eq%20%27RUS%27%20and%20DIM_YEAR_CODE%20eq%20%27{a}%27\"\n",
    "    req = requests.get(link)\n",
    "    data = json.loads(req.content.decode())\n",
    "    req.close()\n",
    "    mortality += data['value']\n",
    "    a += 1\n",
    "\n",
    "len(mortality)"
   ],
   "metadata": {
    "colab": {
     "base_uri": "https://localhost:8080/"
    },
    "id": "55xUMBQhLRDI",
    "outputId": "f9fb235e-6f09-47d8-d183-1c8d7939936a",
    "pycharm": {
     "name": "#%%\n"
    }
   },
   "execution_count": 55,
   "outputs": [
    {
     "output_type": "execute_result",
     "data": {
      "text/plain": [
       "157200"
      ]
     },
     "metadata": {},
     "execution_count": 55
    }
   ]
  },
  {
   "cell_type": "code",
   "source": [
    "df = pd.DataFrame(mortality)"
   ],
   "metadata": {
    "id": "ozNJN7PMLo6f",
    "pycharm": {
     "name": "#%%\n"
    }
   },
   "execution_count": 56,
   "outputs": []
  },
  {
   "cell_type": "code",
   "source": [
    "df"
   ],
   "metadata": {
    "colab": {
     "base_uri": "https://localhost:8080/",
     "height": 540
    },
    "id": "tUITF3gGsyDn",
    "outputId": "fa968fa1-fcb3-4fa3-fcbd-ec29d573b35e",
    "pycharm": {
     "name": "#%%\n"
    }
   },
   "execution_count": 57,
   "outputs": [
    {
     "output_type": "execute_result",
     "data": {
      "text/plain": [
       "       DIM_COUNTRY_CODE DIM_YEAR_CODE DIM_AGEGROUP_CODE DIM_SEX_CODE  \\\n",
       "0                   RUS          2000        YEARS75-79         FMLE   \n",
       "1                   RUS          2000        YEARS75-79         FMLE   \n",
       "2                   RUS          2000        YEARS75-79         FMLE   \n",
       "3                   RUS          2000        YEARS75-79         FMLE   \n",
       "4                   RUS          2000        YEARS75-79         FMLE   \n",
       "...                 ...           ...               ...          ...   \n",
       "157195              RUS          2019       YEARS85PLUS         BTSX   \n",
       "157196              RUS          2019       YEARS85PLUS         BTSX   \n",
       "157197              RUS          2019       YEARS85PLUS         BTSX   \n",
       "157198              RUS          2019       YEARS85PLUS         BTSX   \n",
       "157199              RUS          2019       YEARS85PLUS         BTSX   \n",
       "\n",
       "       DIM_GHECAUSE_CODE  ATTR_POPULATION_NUMERIC  \\\n",
       "0                   1248                2401909.0   \n",
       "1                   1270                2401909.0   \n",
       "2                   1280                2401909.0   \n",
       "3                   1290                2401909.0   \n",
       "4                   1310                2401909.0   \n",
       "...                  ...                      ...   \n",
       "157195              1575                2117155.0   \n",
       "157196              1580                2117155.0   \n",
       "157197              1610                2117155.0   \n",
       "157198              1620                2117155.0   \n",
       "157199              1630                2117155.0   \n",
       "\n",
       "                                DIM_GHECAUSE_TITLE  VAL_DALY_RATE100K_NUMERIC  \\\n",
       "0                                     Pancreatitis                     216.21   \n",
       "1                                  Kidney diseases                     560.82   \n",
       "2                     Benign prostatic hyperplasia                       0.00   \n",
       "3                                     Urolithiasis                      61.65   \n",
       "4                                      Infertility                       0.00   \n",
       "...                                            ...                        ...   \n",
       "157195               Exposure to mechanical forces                     338.73   \n",
       "157196                           Natural disasters                       0.43   \n",
       "157197                                   Self-harm                     327.75   \n",
       "157198                      Interpersonal violence                     118.75   \n",
       "157199  Collective violence and legal intervention                      10.08   \n",
       "\n",
       "        VAL_DALY_COUNT_NUMERIC  VAL_DEATHS_RATE100K_NUMERIC  \\\n",
       "0                      5193.23                        12.78   \n",
       "1                     13470.39                        23.15   \n",
       "2                         0.00                         0.00   \n",
       "3                      1480.74                         3.51   \n",
       "4                         0.00                         0.00   \n",
       "...                        ...                          ...   \n",
       "157195                 7171.34                         3.84   \n",
       "157196                    9.05                         0.00   \n",
       "157197                 6939.01                        40.40   \n",
       "157198                 2514.07                         5.32   \n",
       "157199                  213.33                         0.15   \n",
       "\n",
       "        VAL_DEATHS_COUNT_NUMERIC  \n",
       "0                         306.96  \n",
       "1                         556.02  \n",
       "2                           0.00  \n",
       "3                          84.30  \n",
       "4                           0.00  \n",
       "...                          ...  \n",
       "157195                     81.31  \n",
       "157196                      0.00  \n",
       "157197                    855.43  \n",
       "157198                    112.70  \n",
       "157199                      3.22  \n",
       "\n",
       "[157200 rows x 11 columns]"
      ],
      "text/html": [
       "\n",
       "  <div id=\"df-5b8c560e-1468-48c0-836a-62b3fca1c7f8\">\n",
       "    <div class=\"colab-df-container\">\n",
       "      <div>\n",
       "<style scoped>\n",
       "    .dataframe tbody tr th:only-of-type {\n",
       "        vertical-align: middle;\n",
       "    }\n",
       "\n",
       "    .dataframe tbody tr th {\n",
       "        vertical-align: top;\n",
       "    }\n",
       "\n",
       "    .dataframe thead th {\n",
       "        text-align: right;\n",
       "    }\n",
       "</style>\n",
       "<table border=\"1\" class=\"dataframe\">\n",
       "  <thead>\n",
       "    <tr style=\"text-align: right;\">\n",
       "      <th></th>\n",
       "      <th>DIM_COUNTRY_CODE</th>\n",
       "      <th>DIM_YEAR_CODE</th>\n",
       "      <th>DIM_AGEGROUP_CODE</th>\n",
       "      <th>DIM_SEX_CODE</th>\n",
       "      <th>DIM_GHECAUSE_CODE</th>\n",
       "      <th>ATTR_POPULATION_NUMERIC</th>\n",
       "      <th>DIM_GHECAUSE_TITLE</th>\n",
       "      <th>VAL_DALY_RATE100K_NUMERIC</th>\n",
       "      <th>VAL_DALY_COUNT_NUMERIC</th>\n",
       "      <th>VAL_DEATHS_RATE100K_NUMERIC</th>\n",
       "      <th>VAL_DEATHS_COUNT_NUMERIC</th>\n",
       "    </tr>\n",
       "  </thead>\n",
       "  <tbody>\n",
       "    <tr>\n",
       "      <th>0</th>\n",
       "      <td>RUS</td>\n",
       "      <td>2000</td>\n",
       "      <td>YEARS75-79</td>\n",
       "      <td>FMLE</td>\n",
       "      <td>1248</td>\n",
       "      <td>2401909.0</td>\n",
       "      <td>Pancreatitis</td>\n",
       "      <td>216.21</td>\n",
       "      <td>5193.23</td>\n",
       "      <td>12.78</td>\n",
       "      <td>306.96</td>\n",
       "    </tr>\n",
       "    <tr>\n",
       "      <th>1</th>\n",
       "      <td>RUS</td>\n",
       "      <td>2000</td>\n",
       "      <td>YEARS75-79</td>\n",
       "      <td>FMLE</td>\n",
       "      <td>1270</td>\n",
       "      <td>2401909.0</td>\n",
       "      <td>Kidney diseases</td>\n",
       "      <td>560.82</td>\n",
       "      <td>13470.39</td>\n",
       "      <td>23.15</td>\n",
       "      <td>556.02</td>\n",
       "    </tr>\n",
       "    <tr>\n",
       "      <th>2</th>\n",
       "      <td>RUS</td>\n",
       "      <td>2000</td>\n",
       "      <td>YEARS75-79</td>\n",
       "      <td>FMLE</td>\n",
       "      <td>1280</td>\n",
       "      <td>2401909.0</td>\n",
       "      <td>Benign prostatic hyperplasia</td>\n",
       "      <td>0.00</td>\n",
       "      <td>0.00</td>\n",
       "      <td>0.00</td>\n",
       "      <td>0.00</td>\n",
       "    </tr>\n",
       "    <tr>\n",
       "      <th>3</th>\n",
       "      <td>RUS</td>\n",
       "      <td>2000</td>\n",
       "      <td>YEARS75-79</td>\n",
       "      <td>FMLE</td>\n",
       "      <td>1290</td>\n",
       "      <td>2401909.0</td>\n",
       "      <td>Urolithiasis</td>\n",
       "      <td>61.65</td>\n",
       "      <td>1480.74</td>\n",
       "      <td>3.51</td>\n",
       "      <td>84.30</td>\n",
       "    </tr>\n",
       "    <tr>\n",
       "      <th>4</th>\n",
       "      <td>RUS</td>\n",
       "      <td>2000</td>\n",
       "      <td>YEARS75-79</td>\n",
       "      <td>FMLE</td>\n",
       "      <td>1310</td>\n",
       "      <td>2401909.0</td>\n",
       "      <td>Infertility</td>\n",
       "      <td>0.00</td>\n",
       "      <td>0.00</td>\n",
       "      <td>0.00</td>\n",
       "      <td>0.00</td>\n",
       "    </tr>\n",
       "    <tr>\n",
       "      <th>...</th>\n",
       "      <td>...</td>\n",
       "      <td>...</td>\n",
       "      <td>...</td>\n",
       "      <td>...</td>\n",
       "      <td>...</td>\n",
       "      <td>...</td>\n",
       "      <td>...</td>\n",
       "      <td>...</td>\n",
       "      <td>...</td>\n",
       "      <td>...</td>\n",
       "      <td>...</td>\n",
       "    </tr>\n",
       "    <tr>\n",
       "      <th>157195</th>\n",
       "      <td>RUS</td>\n",
       "      <td>2019</td>\n",
       "      <td>YEARS85PLUS</td>\n",
       "      <td>BTSX</td>\n",
       "      <td>1575</td>\n",
       "      <td>2117155.0</td>\n",
       "      <td>Exposure to mechanical forces</td>\n",
       "      <td>338.73</td>\n",
       "      <td>7171.34</td>\n",
       "      <td>3.84</td>\n",
       "      <td>81.31</td>\n",
       "    </tr>\n",
       "    <tr>\n",
       "      <th>157196</th>\n",
       "      <td>RUS</td>\n",
       "      <td>2019</td>\n",
       "      <td>YEARS85PLUS</td>\n",
       "      <td>BTSX</td>\n",
       "      <td>1580</td>\n",
       "      <td>2117155.0</td>\n",
       "      <td>Natural disasters</td>\n",
       "      <td>0.43</td>\n",
       "      <td>9.05</td>\n",
       "      <td>0.00</td>\n",
       "      <td>0.00</td>\n",
       "    </tr>\n",
       "    <tr>\n",
       "      <th>157197</th>\n",
       "      <td>RUS</td>\n",
       "      <td>2019</td>\n",
       "      <td>YEARS85PLUS</td>\n",
       "      <td>BTSX</td>\n",
       "      <td>1610</td>\n",
       "      <td>2117155.0</td>\n",
       "      <td>Self-harm</td>\n",
       "      <td>327.75</td>\n",
       "      <td>6939.01</td>\n",
       "      <td>40.40</td>\n",
       "      <td>855.43</td>\n",
       "    </tr>\n",
       "    <tr>\n",
       "      <th>157198</th>\n",
       "      <td>RUS</td>\n",
       "      <td>2019</td>\n",
       "      <td>YEARS85PLUS</td>\n",
       "      <td>BTSX</td>\n",
       "      <td>1620</td>\n",
       "      <td>2117155.0</td>\n",
       "      <td>Interpersonal violence</td>\n",
       "      <td>118.75</td>\n",
       "      <td>2514.07</td>\n",
       "      <td>5.32</td>\n",
       "      <td>112.70</td>\n",
       "    </tr>\n",
       "    <tr>\n",
       "      <th>157199</th>\n",
       "      <td>RUS</td>\n",
       "      <td>2019</td>\n",
       "      <td>YEARS85PLUS</td>\n",
       "      <td>BTSX</td>\n",
       "      <td>1630</td>\n",
       "      <td>2117155.0</td>\n",
       "      <td>Collective violence and legal intervention</td>\n",
       "      <td>10.08</td>\n",
       "      <td>213.33</td>\n",
       "      <td>0.15</td>\n",
       "      <td>3.22</td>\n",
       "    </tr>\n",
       "  </tbody>\n",
       "</table>\n",
       "<p>157200 rows × 11 columns</p>\n",
       "</div>\n",
       "      <button class=\"colab-df-convert\" onclick=\"convertToInteractive('df-5b8c560e-1468-48c0-836a-62b3fca1c7f8')\"\n",
       "              title=\"Convert this dataframe to an interactive table.\"\n",
       "              style=\"display:none;\">\n",
       "        \n",
       "  <svg xmlns=\"http://www.w3.org/2000/svg\" height=\"24px\"viewBox=\"0 0 24 24\"\n",
       "       width=\"24px\">\n",
       "    <path d=\"M0 0h24v24H0V0z\" fill=\"none\"/>\n",
       "    <path d=\"M18.56 5.44l.94 2.06.94-2.06 2.06-.94-2.06-.94-.94-2.06-.94 2.06-2.06.94zm-11 1L8.5 8.5l.94-2.06 2.06-.94-2.06-.94L8.5 2.5l-.94 2.06-2.06.94zm10 10l.94 2.06.94-2.06 2.06-.94-2.06-.94-.94-2.06-.94 2.06-2.06.94z\"/><path d=\"M17.41 7.96l-1.37-1.37c-.4-.4-.92-.59-1.43-.59-.52 0-1.04.2-1.43.59L10.3 9.45l-7.72 7.72c-.78.78-.78 2.05 0 2.83L4 21.41c.39.39.9.59 1.41.59.51 0 1.02-.2 1.41-.59l7.78-7.78 2.81-2.81c.8-.78.8-2.07 0-2.86zM5.41 20L4 18.59l7.72-7.72 1.47 1.35L5.41 20z\"/>\n",
       "  </svg>\n",
       "      </button>\n",
       "      \n",
       "  <style>\n",
       "    .colab-df-container {\n",
       "      display:flex;\n",
       "      flex-wrap:wrap;\n",
       "      gap: 12px;\n",
       "    }\n",
       "\n",
       "    .colab-df-convert {\n",
       "      background-color: #E8F0FE;\n",
       "      border: none;\n",
       "      border-radius: 50%;\n",
       "      cursor: pointer;\n",
       "      display: none;\n",
       "      fill: #1967D2;\n",
       "      height: 32px;\n",
       "      padding: 0 0 0 0;\n",
       "      width: 32px;\n",
       "    }\n",
       "\n",
       "    .colab-df-convert:hover {\n",
       "      background-color: #E2EBFA;\n",
       "      box-shadow: 0px 1px 2px rgba(60, 64, 67, 0.3), 0px 1px 3px 1px rgba(60, 64, 67, 0.15);\n",
       "      fill: #174EA6;\n",
       "    }\n",
       "\n",
       "    [theme=dark] .colab-df-convert {\n",
       "      background-color: #3B4455;\n",
       "      fill: #D2E3FC;\n",
       "    }\n",
       "\n",
       "    [theme=dark] .colab-df-convert:hover {\n",
       "      background-color: #434B5C;\n",
       "      box-shadow: 0px 1px 3px 1px rgba(0, 0, 0, 0.15);\n",
       "      filter: drop-shadow(0px 1px 2px rgba(0, 0, 0, 0.3));\n",
       "      fill: #FFFFFF;\n",
       "    }\n",
       "  </style>\n",
       "\n",
       "      <script>\n",
       "        const buttonEl =\n",
       "          document.querySelector('#df-5b8c560e-1468-48c0-836a-62b3fca1c7f8 button.colab-df-convert');\n",
       "        buttonEl.style.display =\n",
       "          google.colab.kernel.accessAllowed ? 'block' : 'none';\n",
       "\n",
       "        async function convertToInteractive(key) {\n",
       "          const element = document.querySelector('#df-5b8c560e-1468-48c0-836a-62b3fca1c7f8');\n",
       "          const dataTable =\n",
       "            await google.colab.kernel.invokeFunction('convertToInteractive',\n",
       "                                                     [key], {});\n",
       "          if (!dataTable) return;\n",
       "\n",
       "          const docLinkHtml = 'Like what you see? Visit the ' +\n",
       "            '<a target=\"_blank\" href=https://colab.research.google.com/notebooks/data_table.ipynb>data table notebook</a>'\n",
       "            + ' to learn more about interactive tables.';\n",
       "          element.innerHTML = '';\n",
       "          dataTable['output_type'] = 'display_data';\n",
       "          await google.colab.output.renderOutput(dataTable, element);\n",
       "          const docLink = document.createElement('div');\n",
       "          docLink.innerHTML = docLinkHtml;\n",
       "          element.appendChild(docLink);\n",
       "        }\n",
       "      </script>\n",
       "    </div>\n",
       "  </div>\n",
       "  "
      ]
     },
     "metadata": {},
     "execution_count": 57
    }
   ]
  },
  {
   "cell_type": "code",
   "source": [
    "df.to_csv(\"who.csv\")"
   ],
   "metadata": {
    "id": "IcTBYyj-N-Kq",
    "pycharm": {
     "name": "#%%\n"
    }
   },
   "execution_count": 60,
   "outputs": []
  },
  {
   "cell_type": "code",
   "source": [
    "df_rus = df[df[\"DIM_COUNTRY_CODE\"] == \"RUS\"]"
   ],
   "metadata": {
    "id": "tNoDRhkFpC--",
    "pycharm": {
     "name": "#%%\n"
    }
   },
   "execution_count": 33,
   "outputs": []
  },
  {
   "cell_type": "code",
   "source": [
    "df[\"DIM_GHECAUSE_TITLE\"].value_counts()"
   ],
   "metadata": {
    "colab": {
     "base_uri": "https://localhost:8080/"
    },
    "id": "CjWKi-ScpZn1",
    "outputId": "98eafec2-e657-4c81-ec75-0f9169f2e304",
    "pycharm": {
     "name": "#%%\n"
    }
   },
   "execution_count": 58,
   "outputs": [
    {
     "output_type": "execute_result",
     "data": {
      "text/plain": [
       "Pancreatitis                        1200\n",
       "Alcohol use disorders               1200\n",
       "Bipolar disorder                    1200\n",
       "Depressive disorders                1200\n",
       "Sickle cell disorders and trait     1200\n",
       "                                    ... \n",
       "Acute hepatitis A                   1200\n",
       "Encephalitis                        1200\n",
       "Meningitis                          1200\n",
       "Tetanus                             1200\n",
       "Gallbladder and biliary diseases    1200\n",
       "Name: DIM_GHECAUSE_TITLE, Length: 131, dtype: int64"
      ]
     },
     "metadata": {},
     "execution_count": 58
    }
   ]
  },
  {
   "cell_type": "code",
   "execution_count": 5,
   "outputs": [
    {
     "data": {
      "text/plain": "                                              Form name Form code  \\\n0     Основные показатели работы судебных приставов-...        11   \n1     Основные показатели работы судебных приставов-...        11   \n2     Основные показатели работы судебных приставов-...        11   \n3     Основные показатели работы судебных приставов-...        11   \n4     Основные показатели работы судебных приставов-...        11   \n...                                                 ...       ...   \n3759  Результаты работы по защите интересов ФССП Рос...        72   \n3760  Результаты работы по защите интересов ФССП Рос...        72   \n3761  Результаты работы по защите интересов ФССП Рос...        72   \n3762  Результаты работы по защите интересов ФССП Рос...        72   \n3763  Результаты работы по защите интересов ФССП Рос...        72   \n\n                                           Section name Section code  \\\n0     Раздел 1. Сведения об исполнении исполнительны...          642   \n1     Раздел 1. Сведения об исполнении исполнительны...          642   \n2     Раздел 1. Сведения об исполнении исполнительны...          642   \n3     Раздел 1. Сведения об исполнении исполнительны...          642   \n4     Раздел 1. Сведения об исполнении исполнительны...          642   \n...                                                 ...          ...   \n3759  Раздел 3. Сведения о предъявленных в суды заяв...          642   \n3760  Раздел 3. Сведения о предъявленных в суды заяв...          642   \n3761  Раздел 3. Сведения о предъявленных в суды заяв...          642   \n3762  Раздел 3. Сведения о предъявленных в суды заяв...          642   \n3763  Раздел 3. Сведения о предъявленных в суды заяв...          642   \n\n     Row number                                           Row name  \\\n0             1  Общее количество исполнительных производств, н...   \n1             1  Общее количество исполнительных производств, н...   \n2             1  Общее количество исполнительных производств, н...   \n3             1  Общее количество исполнительных производств, н...   \n4             2  из них количество исполнительных производств, ...   \n...         ...                                                ...   \n3759         16  Отменено ранее вынесенных судебных актов об уд...   \n3760         16  Отменено ранее вынесенных судебных актов об уд...   \n3761         17  Количество судебных заседаний с участием руков...   \n3762         17  Количество судебных заседаний с участием руков...   \n3763         17  Количество судебных заседаний с участием руков...   \n\n     Column number                                        Column name  \\\n0                1                                              Всего   \n1                2  в том числе по исполнительным документам, выда...   \n2                3  в том числе по исполнительным документам, выда...   \n3                4  в том числе по исполнительным документам, выда...   \n4                1                                              Всего   \n...            ...                                                ...   \n3759             2  в том числе принятых к рассмотрению судами общ...   \n3760             3  в том числе принятых к рассмотрению арбитражны...   \n3761             1                                              Всего   \n3762             2  в том числе принятых к рассмотрению судами общ...   \n3763             3  в том числе принятых к рассмотрению арбитражны...   \n\n         Value  \n0     89062582  \n1     46985582  \n2      1246503  \n3     40830497  \n4     36561638  \n...        ...  \n3759        16  \n3760         2  \n3761         2  \n3762         2  \n3763         0  \n\n[3764 rows x 9 columns]",
      "text/html": "<div>\n<style scoped>\n    .dataframe tbody tr th:only-of-type {\n        vertical-align: middle;\n    }\n\n    .dataframe tbody tr th {\n        vertical-align: top;\n    }\n\n    .dataframe thead th {\n        text-align: right;\n    }\n</style>\n<table border=\"1\" class=\"dataframe\">\n  <thead>\n    <tr style=\"text-align: right;\">\n      <th></th>\n      <th>Form name</th>\n      <th>Form code</th>\n      <th>Section name</th>\n      <th>Section code</th>\n      <th>Row number</th>\n      <th>Row name</th>\n      <th>Column number</th>\n      <th>Column name</th>\n      <th>Value</th>\n    </tr>\n  </thead>\n  <tbody>\n    <tr>\n      <th>0</th>\n      <td>Основные показатели работы судебных приставов-...</td>\n      <td>11</td>\n      <td>Раздел 1. Сведения об исполнении исполнительны...</td>\n      <td>642</td>\n      <td>1</td>\n      <td>Общее количество исполнительных производств, н...</td>\n      <td>1</td>\n      <td>Всего</td>\n      <td>89062582</td>\n    </tr>\n    <tr>\n      <th>1</th>\n      <td>Основные показатели работы судебных приставов-...</td>\n      <td>11</td>\n      <td>Раздел 1. Сведения об исполнении исполнительны...</td>\n      <td>642</td>\n      <td>1</td>\n      <td>Общее количество исполнительных производств, н...</td>\n      <td>2</td>\n      <td>в том числе по исполнительным документам, выда...</td>\n      <td>46985582</td>\n    </tr>\n    <tr>\n      <th>2</th>\n      <td>Основные показатели работы судебных приставов-...</td>\n      <td>11</td>\n      <td>Раздел 1. Сведения об исполнении исполнительны...</td>\n      <td>642</td>\n      <td>1</td>\n      <td>Общее количество исполнительных производств, н...</td>\n      <td>3</td>\n      <td>в том числе по исполнительным документам, выда...</td>\n      <td>1246503</td>\n    </tr>\n    <tr>\n      <th>3</th>\n      <td>Основные показатели работы судебных приставов-...</td>\n      <td>11</td>\n      <td>Раздел 1. Сведения об исполнении исполнительны...</td>\n      <td>642</td>\n      <td>1</td>\n      <td>Общее количество исполнительных производств, н...</td>\n      <td>4</td>\n      <td>в том числе по исполнительным документам, выда...</td>\n      <td>40830497</td>\n    </tr>\n    <tr>\n      <th>4</th>\n      <td>Основные показатели работы судебных приставов-...</td>\n      <td>11</td>\n      <td>Раздел 1. Сведения об исполнении исполнительны...</td>\n      <td>642</td>\n      <td>2</td>\n      <td>из них количество исполнительных производств, ...</td>\n      <td>1</td>\n      <td>Всего</td>\n      <td>36561638</td>\n    </tr>\n    <tr>\n      <th>...</th>\n      <td>...</td>\n      <td>...</td>\n      <td>...</td>\n      <td>...</td>\n      <td>...</td>\n      <td>...</td>\n      <td>...</td>\n      <td>...</td>\n      <td>...</td>\n    </tr>\n    <tr>\n      <th>3759</th>\n      <td>Результаты работы по защите интересов ФССП Рос...</td>\n      <td>72</td>\n      <td>Раздел 3. Сведения о предъявленных в суды заяв...</td>\n      <td>642</td>\n      <td>16</td>\n      <td>Отменено ранее вынесенных судебных актов об уд...</td>\n      <td>2</td>\n      <td>в том числе принятых к рассмотрению судами общ...</td>\n      <td>16</td>\n    </tr>\n    <tr>\n      <th>3760</th>\n      <td>Результаты работы по защите интересов ФССП Рос...</td>\n      <td>72</td>\n      <td>Раздел 3. Сведения о предъявленных в суды заяв...</td>\n      <td>642</td>\n      <td>16</td>\n      <td>Отменено ранее вынесенных судебных актов об уд...</td>\n      <td>3</td>\n      <td>в том числе принятых к рассмотрению арбитражны...</td>\n      <td>2</td>\n    </tr>\n    <tr>\n      <th>3761</th>\n      <td>Результаты работы по защите интересов ФССП Рос...</td>\n      <td>72</td>\n      <td>Раздел 3. Сведения о предъявленных в суды заяв...</td>\n      <td>642</td>\n      <td>17</td>\n      <td>Количество судебных заседаний с участием руков...</td>\n      <td>1</td>\n      <td>Всего</td>\n      <td>2</td>\n    </tr>\n    <tr>\n      <th>3762</th>\n      <td>Результаты работы по защите интересов ФССП Рос...</td>\n      <td>72</td>\n      <td>Раздел 3. Сведения о предъявленных в суды заяв...</td>\n      <td>642</td>\n      <td>17</td>\n      <td>Количество судебных заседаний с участием руков...</td>\n      <td>2</td>\n      <td>в том числе принятых к рассмотрению судами общ...</td>\n      <td>2</td>\n    </tr>\n    <tr>\n      <th>3763</th>\n      <td>Результаты работы по защите интересов ФССП Рос...</td>\n      <td>72</td>\n      <td>Раздел 3. Сведения о предъявленных в суды заяв...</td>\n      <td>642</td>\n      <td>17</td>\n      <td>Количество судебных заседаний с участием руков...</td>\n      <td>3</td>\n      <td>в том числе принятых к рассмотрению арбитражны...</td>\n      <td>0</td>\n    </tr>\n  </tbody>\n</table>\n<p>3764 rows × 9 columns</p>\n</div>"
     },
     "execution_count": 5,
     "metadata": {},
     "output_type": "execute_result"
    }
   ],
   "source": [
    "import pandas as pd\n",
    "pd.read_csv('https://opendata.fssp.gov.ru/7709576929-statlist/data-20220815-structure-20130624.csv')"
   ],
   "metadata": {
    "collapsed": false,
    "pycharm": {
     "name": "#%%\n"
    }
   }
  },
  {
   "cell_type": "code",
   "execution_count": null,
   "outputs": [],
   "source": [],
   "metadata": {
    "collapsed": false,
    "pycharm": {
     "name": "#%%\n"
    }
   }
  }
 ]
}